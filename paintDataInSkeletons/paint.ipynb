{
 "cells": [
  {
   "cell_type": "code",
   "execution_count": null,
   "metadata": {},
   "outputs": [],
   "source": [
    "import pandas as pd\n",
    "\n",
    "whereToPaint = pd.read_csv('whereToPaint.csv')\n",
    "\n",
    "#get a dictionary with key value as the joint column and values x,y as the next two columns\n",
    "\n",
    "joint2xy = whereToPaint.set_index('joint').T.to_dict('list')\n",
    "\n",
    "print(joint2xy)\n",
    "\n"
   ]
  },
  {
   "cell_type": "code",
   "execution_count": null,
   "metadata": {},
   "outputs": [],
   "source": [
    "#pintar las constantes en la imagen\n",
    "import cv2\n",
    "import pandas as pd\n",
    "\n",
    "\n",
    "img = cv2.imread('./constantVariablesAllFilesSkeleton.png', 1)\n",
    "infoTogether = {}\n",
    "\n",
    "constantJointsAxis = pd.read_csv('/analysis/alwaysConstantVariablesResult.csv')\n",
    "\n",
    "constant_joints_axis_dict = constantJointsAxis.groupby('Variable')[' where'].apply(list).to_dict()\n",
    "\n",
    "# Muestra el diccionario resultante\n",
    "print(constant_joints_axis_dict)\n",
    "\n",
    "for joint in joint2xy:\n",
    "    if not joint in constant_joints_axis_dict:\n",
    "        continue\n",
    "    x = joint2xy[joint][0]\n",
    "    y = joint2xy[joint][1]\n",
    "    dx = joint2xy[joint][2]\n",
    "    dy = joint2xy[joint][3]\n",
    "    constant_values = constant_joints_axis_dict[joint]\n",
    "\n",
    "    if joint.endswith(\".R\"):\n",
    "        text = f\"Name: {joint}\"\n",
    "        whereText = f\"Constant: {', '.join(map(str, constant_values))}\"\n",
    "        # Dibuja el texto en la imagen\n",
    "        cv2.putText(img, text, (dx-200, dy), cv2.FONT_HERSHEY_SIMPLEX, 1, (255, 255, 255), 2, cv2.LINE_AA)\n",
    "        cv2.putText(img, whereText, (dx-200, dy + 40), cv2.FONT_HERSHEY_SIMPLEX, 1, (255, 255, 255), 1, cv2.LINE_AA)\n",
    "    else:\n",
    "        text = f\"Name: {joint}\"\n",
    "        whereText = f\"Constant: {', '.join(map(str, constant_values))}\"\n",
    "        # Dibuja el texto en la imagen\n",
    "        cv2.putText(img, text, (dx, dy), cv2.FONT_HERSHEY_SIMPLEX, 1, (255, 255, 255), 2, cv2.LINE_AA)\n",
    "        cv2.putText(img, whereText, (dx, dy + 40), cv2.FONT_HERSHEY_SIMPLEX, 1, (255, 255, 255), 1, cv2.LINE_AA)\n",
    "\n",
    "    cv2.line(img, (x, y), (dx, dy), (0, 0, 255), 1)\n",
    "# Muestra la imagen\n",
    "cv2.imshow('image', img)\n",
    "\n",
    "# Establece el manejador de eventos para clics del ratón\n",
    "# Espera a que se presione una tecla para salir\n",
    "cv2.waitKey(0)\n",
    "\n",
    "#save the image\n",
    "cv2.imwrite('constantVariablesAllFilesSkeletonWithInfo.png', img)\n",
    "\n",
    "# Cierra la ventana\n",
    "cv2.destroyAllWindows()\n"
   ]
  }
 ],
 "metadata": {
  "kernelspec": {
   "display_name": "freemocap",
   "language": "python",
   "name": "python3"
  },
  "language_info": {
   "codemirror_mode": {
    "name": "ipython",
    "version": 3
   },
   "file_extension": ".py",
   "mimetype": "text/x-python",
   "name": "python",
   "nbconvert_exporter": "python",
   "pygments_lexer": "ipython3",
   "version": "3.11.8"
  }
 },
 "nbformat": 4,
 "nbformat_minor": 2
}
