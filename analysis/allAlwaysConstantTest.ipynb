{
 "cells": [
  {
   "cell_type": "code",
   "execution_count": 4,
   "metadata": {},
   "outputs": [],
   "source": [
    "import os\n",
    "import pandas as pd\n",
    "import numpy as np\n",
    "docFile = \"../csv/README_DOC.txt\"\n",
    "testDirectory = \"../stationarityTest\"\n",
    "doc = open(docFile, \"r\")\n",
    "dataDict = {}\n",
    "nConstant = 0\n",
    "files = os.listdir(testDirectory)\n",
    "for file in files:\n",
    "    #if \"idle\" in file and \"idle2\" not in file:     \n",
    "    if not file.endswith(\".csv\"):\n",
    "        continue\n",
    "    pdData = pd.read_csv(testDirectory+\"/\"+file)\n",
    "    constantVariables = pdData[pdData[\"ADF Stationarity\"] == \"Constant\"][\"Variable\"]\n",
    "    nConstant = constantVariables.shape[0]            \n",
    "    dataDict[file] = {\n",
    "    \"variables\": set(constantVariables.to_list()),\n",
    "    \"nConstant\": nConstant\n",
    "    }\n",
    "    doc.seek(0)\n"
   ]
  },
  {
   "cell_type": "code",
   "execution_count": 5,
   "metadata": {},
   "outputs": [
    {
     "name": "stdout",
     "output_type": "stream",
     "text": [
      "File with less constant variables:  007_actions.csv\n",
      "Number of constant variables:  49\n",
      "Variables:  {'upper_arm.L ZPOS', 'pelvis.R ZROT', 'pelvis YROT', 'shoulder.L ZPOS', 'upper_arm.R ZPOS', 'forearm.R YPOS', 'shin.L XPOS', 'pelvis.L XPOS', 'spine ZPOS', 'forearm.L ZPOS', 'neck XPOS', 'pelvis.R XPOS', 'pelvis.L ZROT', 'neck YPOS', 'spine XPOS', 'pelvis.L ZPOS', 'upper_arm.R XPOS', 'shoulder.R ZPOS', 'forearm.R XPOS', 'pelvis XROT', 'upper_arm.L YPOS', 'forearm.L YPOS', 'forearm.L XPOS', 'pelvis.L YROT', 'neck ZPOS', 'shin.L YPOS', 'spine YPOS', 'shin.L ZPOS', 'forearm.R ZPOS', 'shin.R XPOS', 'shoulder.R XPOS', 'pelvis.L YPOS', 'thigh.R YPOS', 'face YPOS', 'thigh.L YPOS', 'shoulder.L YPOS', 'pelvis.R YROT', 'shoulder.R YPOS', 'pelvis.R ZPOS', 'face ZPOS', 'face XPOS', 'upper_arm.R YPOS', 'shoulder.L XPOS', 'shin.R ZPOS', 'face YROT', 'upper_arm.L XPOS', 'shin.R YPOS', 'face ZROT', 'pelvis.R YPOS'}\n"
     ]
    }
   ],
   "source": [
    "#perform difference\n",
    "minConstantsFile = None\n",
    "infoMinFile=0\n",
    "minConstants = np.inf\n",
    "for file, info in dataDict.items():\n",
    "    if info[\"nConstant\"] < minConstants:\n",
    "        minConstants = info[\"nConstant\"]\n",
    "        minConstantsFile = file\n",
    "        infoMinFile = info\n",
    "\n",
    "print(\"File with less constant variables: \", minConstantsFile)\n",
    "print(\"Number of constant variables: \", minConstants)\n",
    "print(\"Variables: \", infoMinFile[\"variables\"])\n",
    "\n",
    "#check if all the variables from this file are in all the other files to set a baseline\n",
    "baseline = infoMinFile[\"variables\"]\n",
    "for file, info in dataDict.items():\n",
    "    if file != minConstantsFile:\n",
    "        intersect = baseline.intersection(info[\"variables\"])\n",
    "        if intersect != baseline:\n",
    "            print(\"File: \", file)\n",
    "            print(\"Variables: \", info[\"variables\"])\n",
    "            print(\"Intersection: \", intersect)\n",
    "            print(\"Difference: \", baseline.difference(info[\"variables\"]))\n",
    "constantVariables = open(\"./alwaysConstantVariablesResult.csv\", \"w+\")\n",
    "constantVariables.write(\"Variable, where\\n\")\n",
    "for v in infoMinFile[\"variables\"]:\n",
    "    splittedV = v.split(\" \")\n",
    "    constantVariables.write(splittedV[0]+\",\"+splittedV[1]+\"\\n\")\n",
    "constantVariables.close()\n"
   ]
  }
 ],
 "metadata": {
  "kernelspec": {
   "display_name": "freemocap",
   "language": "python",
   "name": "python3"
  },
  "language_info": {
   "codemirror_mode": {
    "name": "ipython",
    "version": 3
   },
   "file_extension": ".py",
   "mimetype": "text/x-python",
   "name": "python",
   "nbconvert_exporter": "python",
   "pygments_lexer": "ipython3",
   "version": "3.11.8"
  }
 },
 "nbformat": 4,
 "nbformat_minor": 2
}
